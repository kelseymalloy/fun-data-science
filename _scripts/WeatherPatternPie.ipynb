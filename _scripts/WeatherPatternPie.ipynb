{
 "cells": [
  {
   "cell_type": "markdown",
   "metadata": {},
   "source": [
    "<a name=\"top\"></a>\n",
    "<div style=\"width:1000 px\">\n",
    "\n",
    "<div style=\"float:right; width:98 px; height:98px;\">\n",
    "<img src=\"https://cdn.miami.edu/_assets-common/images/system/um-logo-gray-bg.png\" alt=\"Miami Logo\" style=\"height: 98px;\">\n",
    "</div>\n",
    "\n",
    "<h1>Plotly</h1>\n",
    "<h2>Seasoned Chaos Figures</h2>\n",
    "<h3>Kelsey Malloy</h3>\n",
    "\n",
    "\n",
    "\n",
    "\n",
    "<div style=\"clear:both\"></div>\n",
    "</div>\n",
    "\n",
    "<hr style=\"height:2px;\">"
   ]
  },
  {
   "cell_type": "code",
   "execution_count": 1,
   "metadata": {},
   "outputs": [],
   "source": [
    "import xarray as xr\n",
    "import numpy as np\n",
    "import matplotlib.pyplot as plt\n",
    "import matplotlib as mpl\n",
    "import pandas as pd\n",
    "from mpl_toolkits.basemap import Basemap\n",
    "import cartopy.crs as ccrs\n",
    "import plotly\n",
    "import plotly.graph_objects as go\n",
    "import plotly.io as pio\n",
    "import chart_studio"
   ]
  },
  {
   "cell_type": "markdown",
   "metadata": {},
   "source": [
    "# Weather Pattern Pie"
   ]
  },
  {
   "cell_type": "code",
   "execution_count": 2,
   "metadata": {},
   "outputs": [],
   "source": [
    "d = {'Timescale': ['Hourly','Hourly','Day-to-day','Day-to-day','Day-to-day','Subseasonal','Subseasonal', \\\n",
    "...                'Subseasonal','Subseasonal','Seasonal','Seasonal','Seasonal', \\\n",
    "...                'Year-to-year','Year-to-year','Decadal','Decadal','Centuries','Irregular','Irregular'], \\\n",
    "...  'Processes': ['T-storms','Tornadoes','Fronts','Mid-latitude Cyclones','Hurricanes','Blocking','PNA', \\\n",
    "...                'NAO','MJO','Earth tilt','ITCZ shift','Monsoons', \\\n",
    "...                'ENSO','QBO','PDO','AMO','Milankovitch cycles','Volcanic Eruptions','Atmospheric Noise'], \\\n",
    "...  'size': [49.6,49.6,33.1,33.1,33.1,24.9,24.9,24.99,24.99,33.3,33.3,33.3,49.99,49.99,49.999,49.999,99.99999,50,50], \\\n",
    "...  'Details': ['T-storms','Tornadoes','Fronts','Mid-lat Cyclones','Hurricanes','Obstruction of zonal flow','Pacific-North American teleconnection', \\\n",
    "...              'North Atlantic Oscillation','Madden-Julian Oscillation','Earth tilt','Inter-Tropical Convergence Zone','reversing wind accompanied by corresponding changes in precipitation', \\\n",
    "...              'El Nino-Southern Oscillation','Quasi-biennial Oscillation','Pacific Decadal Oscillation','Atlantic Multidecadal Oscillation','Eccentricity, Obliquity, Precession','Volcanic Eruptions','Atmoshperic Noise']    }"
   ]
  },
  {
   "cell_type": "code",
   "execution_count": 3,
   "metadata": {},
   "outputs": [
    {
     "data": {
      "text/html": [
       "<div>\n",
       "<style scoped>\n",
       "    .dataframe tbody tr th:only-of-type {\n",
       "        vertical-align: middle;\n",
       "    }\n",
       "\n",
       "    .dataframe tbody tr th {\n",
       "        vertical-align: top;\n",
       "    }\n",
       "\n",
       "    .dataframe thead th {\n",
       "        text-align: right;\n",
       "    }\n",
       "</style>\n",
       "<table border=\"1\" class=\"dataframe\">\n",
       "  <thead>\n",
       "    <tr style=\"text-align: right;\">\n",
       "      <th></th>\n",
       "      <th>Timescale</th>\n",
       "      <th>Processes</th>\n",
       "      <th>size</th>\n",
       "      <th>Details</th>\n",
       "    </tr>\n",
       "  </thead>\n",
       "  <tbody>\n",
       "    <tr>\n",
       "      <th>0</th>\n",
       "      <td>Hourly</td>\n",
       "      <td>T-storms</td>\n",
       "      <td>49.60000</td>\n",
       "      <td>T-storms</td>\n",
       "    </tr>\n",
       "    <tr>\n",
       "      <th>1</th>\n",
       "      <td>Hourly</td>\n",
       "      <td>Tornadoes</td>\n",
       "      <td>49.60000</td>\n",
       "      <td>Tornadoes</td>\n",
       "    </tr>\n",
       "    <tr>\n",
       "      <th>2</th>\n",
       "      <td>Day-to-day</td>\n",
       "      <td>Fronts</td>\n",
       "      <td>33.10000</td>\n",
       "      <td>Fronts</td>\n",
       "    </tr>\n",
       "    <tr>\n",
       "      <th>3</th>\n",
       "      <td>Day-to-day</td>\n",
       "      <td>Mid-latitude Cyclones</td>\n",
       "      <td>33.10000</td>\n",
       "      <td>Mid-lat Cyclones</td>\n",
       "    </tr>\n",
       "    <tr>\n",
       "      <th>4</th>\n",
       "      <td>Day-to-day</td>\n",
       "      <td>Hurricanes</td>\n",
       "      <td>33.10000</td>\n",
       "      <td>Hurricanes</td>\n",
       "    </tr>\n",
       "    <tr>\n",
       "      <th>5</th>\n",
       "      <td>Subseasonal</td>\n",
       "      <td>Blocking</td>\n",
       "      <td>24.90000</td>\n",
       "      <td>Obstruction of zonal flow</td>\n",
       "    </tr>\n",
       "    <tr>\n",
       "      <th>6</th>\n",
       "      <td>Subseasonal</td>\n",
       "      <td>PNA</td>\n",
       "      <td>24.90000</td>\n",
       "      <td>Pacific-North American teleconnection</td>\n",
       "    </tr>\n",
       "    <tr>\n",
       "      <th>7</th>\n",
       "      <td>Subseasonal</td>\n",
       "      <td>NAO</td>\n",
       "      <td>24.99000</td>\n",
       "      <td>North Atlantic Oscillation</td>\n",
       "    </tr>\n",
       "    <tr>\n",
       "      <th>8</th>\n",
       "      <td>Subseasonal</td>\n",
       "      <td>MJO</td>\n",
       "      <td>24.99000</td>\n",
       "      <td>Madden-Julian Oscillation</td>\n",
       "    </tr>\n",
       "    <tr>\n",
       "      <th>9</th>\n",
       "      <td>Seasonal</td>\n",
       "      <td>Earth tilt</td>\n",
       "      <td>33.30000</td>\n",
       "      <td>Earth tilt</td>\n",
       "    </tr>\n",
       "    <tr>\n",
       "      <th>10</th>\n",
       "      <td>Seasonal</td>\n",
       "      <td>ITCZ shift</td>\n",
       "      <td>33.30000</td>\n",
       "      <td>Inter-Tropical Convergence Zone</td>\n",
       "    </tr>\n",
       "    <tr>\n",
       "      <th>11</th>\n",
       "      <td>Seasonal</td>\n",
       "      <td>Monsoons</td>\n",
       "      <td>33.30000</td>\n",
       "      <td>reversing wind accompanied by corresponding ch...</td>\n",
       "    </tr>\n",
       "    <tr>\n",
       "      <th>12</th>\n",
       "      <td>Year-to-year</td>\n",
       "      <td>ENSO</td>\n",
       "      <td>49.99000</td>\n",
       "      <td>El Nino-Southern Oscillation</td>\n",
       "    </tr>\n",
       "    <tr>\n",
       "      <th>13</th>\n",
       "      <td>Year-to-year</td>\n",
       "      <td>QBO</td>\n",
       "      <td>49.99000</td>\n",
       "      <td>Quasi-biennial Oscillation</td>\n",
       "    </tr>\n",
       "    <tr>\n",
       "      <th>14</th>\n",
       "      <td>Decadal</td>\n",
       "      <td>PDO</td>\n",
       "      <td>49.99900</td>\n",
       "      <td>Pacific Decadal Oscillation</td>\n",
       "    </tr>\n",
       "    <tr>\n",
       "      <th>15</th>\n",
       "      <td>Decadal</td>\n",
       "      <td>AMO</td>\n",
       "      <td>49.99900</td>\n",
       "      <td>Atlantic Multidecadal Oscillation</td>\n",
       "    </tr>\n",
       "    <tr>\n",
       "      <th>16</th>\n",
       "      <td>Centuries</td>\n",
       "      <td>Milankovitch cycles</td>\n",
       "      <td>99.99999</td>\n",
       "      <td>Eccentricity, Obliquity, Precession</td>\n",
       "    </tr>\n",
       "    <tr>\n",
       "      <th>17</th>\n",
       "      <td>Irregular</td>\n",
       "      <td>Volcanic Eruptions</td>\n",
       "      <td>50.00000</td>\n",
       "      <td>Volcanic Eruptions</td>\n",
       "    </tr>\n",
       "    <tr>\n",
       "      <th>18</th>\n",
       "      <td>Irregular</td>\n",
       "      <td>Atmospheric Noise</td>\n",
       "      <td>50.00000</td>\n",
       "      <td>Atmoshperic Noise</td>\n",
       "    </tr>\n",
       "  </tbody>\n",
       "</table>\n",
       "</div>"
      ],
      "text/plain": [
       "       Timescale              Processes      size  \\\n",
       "0         Hourly               T-storms  49.60000   \n",
       "1         Hourly              Tornadoes  49.60000   \n",
       "2     Day-to-day                 Fronts  33.10000   \n",
       "3     Day-to-day  Mid-latitude Cyclones  33.10000   \n",
       "4     Day-to-day             Hurricanes  33.10000   \n",
       "5    Subseasonal               Blocking  24.90000   \n",
       "6    Subseasonal                    PNA  24.90000   \n",
       "7    Subseasonal                    NAO  24.99000   \n",
       "8    Subseasonal                    MJO  24.99000   \n",
       "9       Seasonal             Earth tilt  33.30000   \n",
       "10      Seasonal             ITCZ shift  33.30000   \n",
       "11      Seasonal               Monsoons  33.30000   \n",
       "12  Year-to-year                   ENSO  49.99000   \n",
       "13  Year-to-year                    QBO  49.99000   \n",
       "14       Decadal                    PDO  49.99900   \n",
       "15       Decadal                    AMO  49.99900   \n",
       "16     Centuries    Milankovitch cycles  99.99999   \n",
       "17     Irregular     Volcanic Eruptions  50.00000   \n",
       "18     Irregular      Atmospheric Noise  50.00000   \n",
       "\n",
       "                                              Details  \n",
       "0                                            T-storms  \n",
       "1                                           Tornadoes  \n",
       "2                                              Fronts  \n",
       "3                                    Mid-lat Cyclones  \n",
       "4                                          Hurricanes  \n",
       "5                           Obstruction of zonal flow  \n",
       "6               Pacific-North American teleconnection  \n",
       "7                          North Atlantic Oscillation  \n",
       "8                           Madden-Julian Oscillation  \n",
       "9                                          Earth tilt  \n",
       "10                    Inter-Tropical Convergence Zone  \n",
       "11  reversing wind accompanied by corresponding ch...  \n",
       "12                       El Nino-Southern Oscillation  \n",
       "13                         Quasi-biennial Oscillation  \n",
       "14                        Pacific Decadal Oscillation  \n",
       "15                  Atlantic Multidecadal Oscillation  \n",
       "16                Eccentricity, Obliquity, Precession  \n",
       "17                                 Volcanic Eruptions  \n",
       "18                                  Atmoshperic Noise  "
      ]
     },
     "execution_count": 3,
     "metadata": {},
     "output_type": "execute_result"
    }
   ],
   "source": [
    "df = pd.DataFrame(data=d)\n",
    "df"
   ]
  },
  {
   "cell_type": "code",
   "execution_count": 25,
   "metadata": {},
   "outputs": [
    {
     "data": {
      "application/vnd.plotly.v1+json": {
       "config": {
        "plotlyServerURL": "https://plotly.com"
       },
       "data": [
        {
         "branchvalues": "total",
         "customdata": [
          "Atlantic Multidecadal Oscillation: fluctuations in<br>North Atlantic Ocean sea surface temperatures",
          "Noise is a fancier word for unpredictable chaos,<br>kinda like we talked about in the first blog!",
          "Obstruction of west-to-east flow; see previous blog!",
          "El Nino-Southern Oscillation: fluctuations of<br>tropical Pacific sea surface temperatures",
          "Hemisphere receives more or less direct sunlight<br>in summer or winter months",
          "Boundary of air masses;<br>types are cold, warm, stationary, occluded",
          "Strong, closed low pressure system that<br>originates in the tropics;<br>topic of next blog!",
          "Inter-Tropical Convergence Zone: belt of clouds<br>& storminess that circles the globe & follows trade<br>winds",
          "Madden-Julian Oscillation: tropical, eastward-moving<br>band of clouds & rainfall sandwiched between two dry<br>systems;<br>our topic of this blog!",
          "Low pressure system outside the tropics",
          "Earth's eccentricity (orbit), obliquity (change in tilt),<br>& precession (wobble)",
          "Reversal of winds accompanied by corresponding<br>changes in precipitation",
          "North Atlantic Oscillation: fluctuations in<br>atmospheric pressure at sea level between the<br>Icelandic Low (N Atl.) and the Azores High<br>(subtropical Atl.)",
          "Pacific Decadal Oscillation: fluctuations in<br>North Pacific sea surface temperatures",
          "Pacific-North American pattern: fluctuations in<br>upper-level pressure between eastern North Pacific<br>and North America",
          "Quasi-biennial Oscillation: fluctuations in<br>direction (east-to-west or west-to-east) of equatorial<br>winds in the stratosphere;<br>usually reverses every 2 years",
          "Thunderstorm, the thing that scares your dog",
          "Rapidly rotating column of air that touches ground",
          "Volcanoes add a lot of ash<br>and gases to the atmosphere,<br>triggering storms in regions close by;<br>if strong enough, they contribute<br>a cooling effect for global climate<br>for up to a few years",
          "Forecasting out hundreds and thousands of years,<br>past the time a human lives",
          "Forecasting weather for today vs. tomorrow vs. Friday",
          "Forecasting out 7+ years",
          "Forecasting within a day",
          "No set forecast time scale, more unpredictable",
          "Forecasting out a season, like summer or winter",
          "Forecasting out past two weeks but no longer than a few months",
          "Forecasting a general season for this year vs. next year"
         ],
         "domain": {
          "x": [
           0,
           1
          ],
          "y": [
           0,
           1
          ]
         },
         "hoverlabel": {
          "namelength": 0
         },
         "hovertemplate": "%{customdata}",
         "ids": [
          "Decadal/AMO",
          "Irregular/Atmospheric Noise",
          "Subseasonal/Blocking",
          "Year-to-year/ENSO",
          "Seasonal/Earth tilt",
          "Day-to-day/Fronts",
          "Day-to-day/Hurricanes",
          "Seasonal/ITCZ shift",
          "Subseasonal/MJO",
          "Day-to-day/Mid-latitude Cyclones",
          "Centuries/Milankovitch cycles",
          "Seasonal/Monsoons",
          "Subseasonal/NAO",
          "Decadal/PDO",
          "Subseasonal/PNA",
          "Year-to-year/QBO",
          "Hourly/T-storms",
          "Hourly/Tornadoes",
          "Irregular/Volcanic Eruptions",
          "Centuries",
          "Day-to-day",
          "Decadal",
          "Hourly",
          "Irregular",
          "Seasonal",
          "Subseasonal",
          "Year-to-year"
         ],
         "insidetextorientation": "radial",
         "labels": [
          "AMO",
          "Atmospheric Noise",
          "Blocking",
          "ENSO",
          "Earth tilt",
          "Fronts",
          "Hurricanes",
          "ITCZ shift",
          "MJO",
          "Mid-latitude Cyclones",
          "Milankovitch cycles",
          "Monsoons",
          "NAO",
          "PDO",
          "PNA",
          "QBO",
          "T-storms",
          "Tornadoes",
          "Volcanic Eruptions",
          "Centuries",
          "Day-to-day",
          "Decadal",
          "Hourly",
          "Irregular",
          "Seasonal",
          "Subseasonal",
          "Year-to-year"
         ],
         "name": "",
         "parents": [
          "Decadal",
          "Irregular",
          "Subseasonal",
          "Year-to-year",
          "Seasonal",
          "Day-to-day",
          "Day-to-day",
          "Seasonal",
          "Subseasonal",
          "Day-to-day",
          "Centuries",
          "Seasonal",
          "Subseasonal",
          "Decadal",
          "Subseasonal",
          "Year-to-year",
          "Hourly",
          "Hourly",
          "Irregular",
          "",
          "",
          "",
          "",
          "",
          "",
          "",
          ""
         ],
         "type": "sunburst",
         "values": [
          49.999,
          50,
          24.9,
          49.99,
          33.3,
          33.1,
          33.1,
          33.3,
          24.99,
          33.1,
          99.99999,
          33.3,
          24.99,
          49.999,
          24.9,
          49.99,
          49.6,
          49.6,
          50,
          99.99999,
          99.30000000000001,
          99.998,
          99.2,
          100,
          99.89999999999999,
          99.77999999999999,
          99.98
         ]
        }
       ],
       "layout": {
        "annotations": [
         {
          "font": {
           "color": "black",
           "family": "Dill Alternate,monospace",
           "size": 14
          },
          "opacity": 0.8,
          "showarrow": false,
          "text": "<i>© Seasoned Chaos</i>",
          "x": 0.85,
          "xref": "paper",
          "y": 0.02,
          "yref": "paper"
         }
        ],
        "autosize": true,
        "hoverlabel": {
         "font": {
          "family": "sans-serif",
          "size": 12
         }
        },
        "legend": {
         "tracegroupgap": 0
        },
        "margin": {
         "b": 0,
         "l": 0,
         "r": 0,
         "t": 40
        },
        "sunburstcolorway": [
         "#4C78A8",
         "#F58518",
         "#E45756",
         "#72B7B2",
         "#54A24B",
         "#EECA3B",
         "#B279A2",
         "#FF9DA6",
         "#9D755D",
         "#BAB0AC"
        ],
        "template": {
         "data": {
          "bar": [
           {
            "error_x": {
             "color": "#2a3f5f"
            },
            "error_y": {
             "color": "#2a3f5f"
            },
            "marker": {
             "line": {
              "color": "#E5ECF6",
              "width": 0.5
             }
            },
            "type": "bar"
           }
          ],
          "barpolar": [
           {
            "marker": {
             "line": {
              "color": "#E5ECF6",
              "width": 0.5
             }
            },
            "type": "barpolar"
           }
          ],
          "carpet": [
           {
            "aaxis": {
             "endlinecolor": "#2a3f5f",
             "gridcolor": "white",
             "linecolor": "white",
             "minorgridcolor": "white",
             "startlinecolor": "#2a3f5f"
            },
            "baxis": {
             "endlinecolor": "#2a3f5f",
             "gridcolor": "white",
             "linecolor": "white",
             "minorgridcolor": "white",
             "startlinecolor": "#2a3f5f"
            },
            "type": "carpet"
           }
          ],
          "choropleth": [
           {
            "colorbar": {
             "outlinewidth": 0,
             "ticks": ""
            },
            "type": "choropleth"
           }
          ],
          "contour": [
           {
            "colorbar": {
             "outlinewidth": 0,
             "ticks": ""
            },
            "colorscale": [
             [
              0,
              "#0d0887"
             ],
             [
              0.1111111111111111,
              "#46039f"
             ],
             [
              0.2222222222222222,
              "#7201a8"
             ],
             [
              0.3333333333333333,
              "#9c179e"
             ],
             [
              0.4444444444444444,
              "#bd3786"
             ],
             [
              0.5555555555555556,
              "#d8576b"
             ],
             [
              0.6666666666666666,
              "#ed7953"
             ],
             [
              0.7777777777777778,
              "#fb9f3a"
             ],
             [
              0.8888888888888888,
              "#fdca26"
             ],
             [
              1,
              "#f0f921"
             ]
            ],
            "type": "contour"
           }
          ],
          "contourcarpet": [
           {
            "colorbar": {
             "outlinewidth": 0,
             "ticks": ""
            },
            "type": "contourcarpet"
           }
          ],
          "heatmap": [
           {
            "colorbar": {
             "outlinewidth": 0,
             "ticks": ""
            },
            "colorscale": [
             [
              0,
              "#0d0887"
             ],
             [
              0.1111111111111111,
              "#46039f"
             ],
             [
              0.2222222222222222,
              "#7201a8"
             ],
             [
              0.3333333333333333,
              "#9c179e"
             ],
             [
              0.4444444444444444,
              "#bd3786"
             ],
             [
              0.5555555555555556,
              "#d8576b"
             ],
             [
              0.6666666666666666,
              "#ed7953"
             ],
             [
              0.7777777777777778,
              "#fb9f3a"
             ],
             [
              0.8888888888888888,
              "#fdca26"
             ],
             [
              1,
              "#f0f921"
             ]
            ],
            "type": "heatmap"
           }
          ],
          "heatmapgl": [
           {
            "colorbar": {
             "outlinewidth": 0,
             "ticks": ""
            },
            "colorscale": [
             [
              0,
              "#0d0887"
             ],
             [
              0.1111111111111111,
              "#46039f"
             ],
             [
              0.2222222222222222,
              "#7201a8"
             ],
             [
              0.3333333333333333,
              "#9c179e"
             ],
             [
              0.4444444444444444,
              "#bd3786"
             ],
             [
              0.5555555555555556,
              "#d8576b"
             ],
             [
              0.6666666666666666,
              "#ed7953"
             ],
             [
              0.7777777777777778,
              "#fb9f3a"
             ],
             [
              0.8888888888888888,
              "#fdca26"
             ],
             [
              1,
              "#f0f921"
             ]
            ],
            "type": "heatmapgl"
           }
          ],
          "histogram": [
           {
            "marker": {
             "colorbar": {
              "outlinewidth": 0,
              "ticks": ""
             }
            },
            "type": "histogram"
           }
          ],
          "histogram2d": [
           {
            "colorbar": {
             "outlinewidth": 0,
             "ticks": ""
            },
            "colorscale": [
             [
              0,
              "#0d0887"
             ],
             [
              0.1111111111111111,
              "#46039f"
             ],
             [
              0.2222222222222222,
              "#7201a8"
             ],
             [
              0.3333333333333333,
              "#9c179e"
             ],
             [
              0.4444444444444444,
              "#bd3786"
             ],
             [
              0.5555555555555556,
              "#d8576b"
             ],
             [
              0.6666666666666666,
              "#ed7953"
             ],
             [
              0.7777777777777778,
              "#fb9f3a"
             ],
             [
              0.8888888888888888,
              "#fdca26"
             ],
             [
              1,
              "#f0f921"
             ]
            ],
            "type": "histogram2d"
           }
          ],
          "histogram2dcontour": [
           {
            "colorbar": {
             "outlinewidth": 0,
             "ticks": ""
            },
            "colorscale": [
             [
              0,
              "#0d0887"
             ],
             [
              0.1111111111111111,
              "#46039f"
             ],
             [
              0.2222222222222222,
              "#7201a8"
             ],
             [
              0.3333333333333333,
              "#9c179e"
             ],
             [
              0.4444444444444444,
              "#bd3786"
             ],
             [
              0.5555555555555556,
              "#d8576b"
             ],
             [
              0.6666666666666666,
              "#ed7953"
             ],
             [
              0.7777777777777778,
              "#fb9f3a"
             ],
             [
              0.8888888888888888,
              "#fdca26"
             ],
             [
              1,
              "#f0f921"
             ]
            ],
            "type": "histogram2dcontour"
           }
          ],
          "mesh3d": [
           {
            "colorbar": {
             "outlinewidth": 0,
             "ticks": ""
            },
            "type": "mesh3d"
           }
          ],
          "parcoords": [
           {
            "line": {
             "colorbar": {
              "outlinewidth": 0,
              "ticks": ""
             }
            },
            "type": "parcoords"
           }
          ],
          "pie": [
           {
            "automargin": true,
            "type": "pie"
           }
          ],
          "scatter": [
           {
            "marker": {
             "colorbar": {
              "outlinewidth": 0,
              "ticks": ""
             }
            },
            "type": "scatter"
           }
          ],
          "scatter3d": [
           {
            "line": {
             "colorbar": {
              "outlinewidth": 0,
              "ticks": ""
             }
            },
            "marker": {
             "colorbar": {
              "outlinewidth": 0,
              "ticks": ""
             }
            },
            "type": "scatter3d"
           }
          ],
          "scattercarpet": [
           {
            "marker": {
             "colorbar": {
              "outlinewidth": 0,
              "ticks": ""
             }
            },
            "type": "scattercarpet"
           }
          ],
          "scattergeo": [
           {
            "marker": {
             "colorbar": {
              "outlinewidth": 0,
              "ticks": ""
             }
            },
            "type": "scattergeo"
           }
          ],
          "scattergl": [
           {
            "marker": {
             "colorbar": {
              "outlinewidth": 0,
              "ticks": ""
             }
            },
            "type": "scattergl"
           }
          ],
          "scattermapbox": [
           {
            "marker": {
             "colorbar": {
              "outlinewidth": 0,
              "ticks": ""
             }
            },
            "type": "scattermapbox"
           }
          ],
          "scatterpolar": [
           {
            "marker": {
             "colorbar": {
              "outlinewidth": 0,
              "ticks": ""
             }
            },
            "type": "scatterpolar"
           }
          ],
          "scatterpolargl": [
           {
            "marker": {
             "colorbar": {
              "outlinewidth": 0,
              "ticks": ""
             }
            },
            "type": "scatterpolargl"
           }
          ],
          "scatterternary": [
           {
            "marker": {
             "colorbar": {
              "outlinewidth": 0,
              "ticks": ""
             }
            },
            "type": "scatterternary"
           }
          ],
          "surface": [
           {
            "colorbar": {
             "outlinewidth": 0,
             "ticks": ""
            },
            "colorscale": [
             [
              0,
              "#0d0887"
             ],
             [
              0.1111111111111111,
              "#46039f"
             ],
             [
              0.2222222222222222,
              "#7201a8"
             ],
             [
              0.3333333333333333,
              "#9c179e"
             ],
             [
              0.4444444444444444,
              "#bd3786"
             ],
             [
              0.5555555555555556,
              "#d8576b"
             ],
             [
              0.6666666666666666,
              "#ed7953"
             ],
             [
              0.7777777777777778,
              "#fb9f3a"
             ],
             [
              0.8888888888888888,
              "#fdca26"
             ],
             [
              1,
              "#f0f921"
             ]
            ],
            "type": "surface"
           }
          ],
          "table": [
           {
            "cells": {
             "fill": {
              "color": "#EBF0F8"
             },
             "line": {
              "color": "white"
             }
            },
            "header": {
             "fill": {
              "color": "#C8D4E3"
             },
             "line": {
              "color": "white"
             }
            },
            "type": "table"
           }
          ]
         },
         "layout": {
          "annotationdefaults": {
           "arrowcolor": "#2a3f5f",
           "arrowhead": 0,
           "arrowwidth": 1
          },
          "coloraxis": {
           "colorbar": {
            "outlinewidth": 0,
            "ticks": ""
           }
          },
          "colorscale": {
           "diverging": [
            [
             0,
             "#8e0152"
            ],
            [
             0.1,
             "#c51b7d"
            ],
            [
             0.2,
             "#de77ae"
            ],
            [
             0.3,
             "#f1b6da"
            ],
            [
             0.4,
             "#fde0ef"
            ],
            [
             0.5,
             "#f7f7f7"
            ],
            [
             0.6,
             "#e6f5d0"
            ],
            [
             0.7,
             "#b8e186"
            ],
            [
             0.8,
             "#7fbc41"
            ],
            [
             0.9,
             "#4d9221"
            ],
            [
             1,
             "#276419"
            ]
           ],
           "sequential": [
            [
             0,
             "#0d0887"
            ],
            [
             0.1111111111111111,
             "#46039f"
            ],
            [
             0.2222222222222222,
             "#7201a8"
            ],
            [
             0.3333333333333333,
             "#9c179e"
            ],
            [
             0.4444444444444444,
             "#bd3786"
            ],
            [
             0.5555555555555556,
             "#d8576b"
            ],
            [
             0.6666666666666666,
             "#ed7953"
            ],
            [
             0.7777777777777778,
             "#fb9f3a"
            ],
            [
             0.8888888888888888,
             "#fdca26"
            ],
            [
             1,
             "#f0f921"
            ]
           ],
           "sequentialminus": [
            [
             0,
             "#0d0887"
            ],
            [
             0.1111111111111111,
             "#46039f"
            ],
            [
             0.2222222222222222,
             "#7201a8"
            ],
            [
             0.3333333333333333,
             "#9c179e"
            ],
            [
             0.4444444444444444,
             "#bd3786"
            ],
            [
             0.5555555555555556,
             "#d8576b"
            ],
            [
             0.6666666666666666,
             "#ed7953"
            ],
            [
             0.7777777777777778,
             "#fb9f3a"
            ],
            [
             0.8888888888888888,
             "#fdca26"
            ],
            [
             1,
             "#f0f921"
            ]
           ]
          },
          "colorway": [
           "#636efa",
           "#EF553B",
           "#00cc96",
           "#ab63fa",
           "#FFA15A",
           "#19d3f3",
           "#FF6692",
           "#B6E880",
           "#FF97FF",
           "#FECB52"
          ],
          "font": {
           "color": "#2a3f5f"
          },
          "geo": {
           "bgcolor": "white",
           "lakecolor": "white",
           "landcolor": "#E5ECF6",
           "showlakes": true,
           "showland": true,
           "subunitcolor": "white"
          },
          "hoverlabel": {
           "align": "left"
          },
          "hovermode": "closest",
          "mapbox": {
           "style": "light"
          },
          "paper_bgcolor": "white",
          "plot_bgcolor": "#E5ECF6",
          "polar": {
           "angularaxis": {
            "gridcolor": "white",
            "linecolor": "white",
            "ticks": ""
           },
           "bgcolor": "#E5ECF6",
           "radialaxis": {
            "gridcolor": "white",
            "linecolor": "white",
            "ticks": ""
           }
          },
          "scene": {
           "xaxis": {
            "backgroundcolor": "#E5ECF6",
            "gridcolor": "white",
            "gridwidth": 2,
            "linecolor": "white",
            "showbackground": true,
            "ticks": "",
            "zerolinecolor": "white"
           },
           "yaxis": {
            "backgroundcolor": "#E5ECF6",
            "gridcolor": "white",
            "gridwidth": 2,
            "linecolor": "white",
            "showbackground": true,
            "ticks": "",
            "zerolinecolor": "white"
           },
           "zaxis": {
            "backgroundcolor": "#E5ECF6",
            "gridcolor": "white",
            "gridwidth": 2,
            "linecolor": "white",
            "showbackground": true,
            "ticks": "",
            "zerolinecolor": "white"
           }
          },
          "shapedefaults": {
           "line": {
            "color": "#2a3f5f"
           }
          },
          "ternary": {
           "aaxis": {
            "gridcolor": "white",
            "linecolor": "white",
            "ticks": ""
           },
           "baxis": {
            "gridcolor": "white",
            "linecolor": "white",
            "ticks": ""
           },
           "bgcolor": "#E5ECF6",
           "caxis": {
            "gridcolor": "white",
            "linecolor": "white",
            "ticks": ""
           }
          },
          "title": {
           "x": 0.05
          },
          "xaxis": {
           "automargin": true,
           "gridcolor": "white",
           "linecolor": "white",
           "ticks": "",
           "title": {
            "standoff": 15
           },
           "zerolinecolor": "white",
           "zerolinewidth": 2
          },
          "yaxis": {
           "automargin": true,
           "gridcolor": "white",
           "linecolor": "white",
           "ticks": "",
           "title": {
            "standoff": 15
           },
           "zerolinecolor": "white",
           "zerolinewidth": 2
          }
         }
        },
        "title": {
         "text": "Weather Pattern Pie",
         "x": 0.49,
         "xanchor": "center",
         "y": 0.98,
         "yanchor": "top"
        }
       }
      },
      "image/png": "[encoded data removed]"
     },
     "metadata": {},
     "output_type": "display_data"
    }
   ],
   "source": [
    "import plotly.express as px\n",
    "\n",
    "my_text = ['Atlantic Multidecadal Oscillation: fluctuations in<br>North Atlantic Ocean sea surface temperatures',\n",
    "           'Noise is a fancier word for unpredictable chaos,<br>kinda like we talked about in the first blog!',\n",
    "           'Obstruction of west-to-east flow; see previous blog!', \n",
    "           'El Nino-Southern Oscillation: fluctuations of<br>tropical Pacific sea surface temperatures',\n",
    "           'Hemisphere receives more or less direct sunlight<br>in summer or winter months',\n",
    "           'Boundary of air masses;<br>types are cold, warm, stationary, occluded',\n",
    "           'Strong, closed low pressure system that<br>originates in the tropics;<br>topic of next blog!',\n",
    "           'Inter-Tropical Convergence Zone: belt of clouds<br>& storminess that circles the globe & follows trade<br>winds',\n",
    "           'Madden-Julian Oscillation: tropical, eastward-moving<br>band of clouds & rainfall sandwiched between two dry<br>systems;<br>our topic of this blog!',\n",
    "           'Low pressure system outside the tropics',\n",
    "           'Earth\\'s eccentricity (orbit), obliquity (change in tilt),<br>& precession (wobble)',\n",
    "           'Reversal of winds accompanied by corresponding<br>changes in precipitation',\n",
    "           'North Atlantic Oscillation: fluctuations in<br>atmospheric pressure at sea level between the<br>Icelandic Low (N Atl.) and the Azores High<br>(subtropical Atl.)',\n",
    "           'Pacific Decadal Oscillation: fluctuations in<br>North Pacific sea surface temperatures',\n",
    "           'Pacific-North American pattern: fluctuations in<br>upper-level pressure between eastern North Pacific<br>and North America',\n",
    "           'Quasi-biennial Oscillation: fluctuations in<br>direction (east-to-west or west-to-east) of equatorial<br>winds in the stratosphere;<br>usually reverses every 2 years',\n",
    "           'Thunderstorm, the thing that scares your dog','Rapidly rotating column of air that touches ground',\n",
    "           'Volcanoes add a lot of ash<br>and gases to the atmosphere,<br>triggering storms in regions close by;<br>if strong enough, they contribute<br>a cooling effect for global climate<br>for up to a few years',\n",
    "           'Forecasting out hundreds and thousands of years,<br>past the time a human lives',\n",
    "           'Forecasting weather for today vs. tomorrow vs. Friday','Forecasting out 7+ years',\n",
    "           'Forecasting within a day','No set forecast time scale, more unpredictable',\n",
    "           'Forecasting out a season, like summer or winter',\n",
    "           'Forecasting out past two weeks but no longer than a few months',\n",
    "           'Forecasting a general season for this year vs. next year',\n",
    "           ]\n",
    "\n",
    "fig = px.sunburst(df, path=['Timescale','Processes'], values='size', color_discrete_sequence=px.colors.qualitative.T10)\n",
    "fig.update_traces(insidetextorientation='radial')\n",
    "fig.update_traces(customdata=my_text,hovertemplate=\"%{customdata}\")\n",
    "fig.update_layout(title={\n",
    "        'text': \"Weather Pattern Pie\",\n",
    "        'y':0.98,\n",
    "        'x':0.49,\n",
    "        'xanchor': 'center',\n",
    "        'yanchor': 'top'})\n",
    "# -*- coding: utf-8 -*-\n",
    "fig.add_annotation(\n",
    "            x=0.85,\n",
    "            y=0.02,\n",
    "            xref=\"paper\",\n",
    "            yref=\"paper\",\n",
    "            text=\"<i>\\xa9 Seasoned Chaos</i>\",\n",
    "            showarrow=False, opacity=.8,\n",
    "            font=dict(\n",
    "                family=\"Dill Alternate,monospace\",\n",
    "                size=14,\n",
    "                color=\"black\"\n",
    "            ))\n",
    "fig.update_layout(margin = dict(t=40, l=0, r=0, b=0))\n",
    "fig.update_layout(hoverlabel=dict(font=dict(family='sans-serif', size=12)))\n",
    "fig.show(renderer='plotly_mimetype')\n"
   ]
  },
  {
   "cell_type": "code",
   "execution_count": 5,
   "metadata": {},
   "outputs": [
    {
     "data": {
      "application/vnd.plotly.v1+json": {
       "config": {
        "plotlyServerURL": "https://plot.ly"
       },
       "data": [
        {
         "branchvalues": "total",
         "customdata": [
          "Atlantic Multidecadal Oscillation: fluctuations in North Atlantic Ocean sea surface temperatures",
          "Obstruction of west-to-east flow",
          "El Nino-Southern Oscillation: fluctuations of tropical Pacific sea surface temperatures",
          "Hemisphere receives more or less direct sunlight in summer or winter months",
          "Boundary of air masses; types are cold, warm, stationary, occluded",
          "Strong, closed low pressure system that originates in the tropics",
          "Inter-Tropical Convergence Zone: belt of clouds & storminess that circles the globe & follows trade winds",
          "Madden-Julian Oscillation: tropical, eastward-moving band of clouds & rainfall sandwiched between two dry systems",
          "Low pressure system outside the tropics",
          "Earth's eccentricity (orbit), obliquity (change in tilt), & precession (wobble)",
          "Reversal of winds accompanied by corresponding changes in precipitation",
          "North Atlantic Oscillation: fluctuations in atmospheric pressure at sea level between the Icelandic Low (N Atl.) and the Azores High (subtropical Atl.)",
          "Pacific Decadal Oscillation: fluctuations in North Pacific sea surface temperatures",
          "Pacific-North American pattern: fluctuations in upper-level pressure between eastern North Pacific and North America",
          "Quasi-biennial Oscillation: fluctuations in direction (east-to-west or west-to-east) of equatorial winds in the stratosphere; usually reverses every 2 years",
          "Thunderstorm, the thing that scares your dog",
          "Rapidly rotating column of air that touches ground",
          "Forecasting out hundreds and thousands of years, past the time a human lives",
          "Forecasting weather for today vs. tomorrow vs. Friday",
          "Forecasting out 7+ years",
          "Forecasting within a day",
          "Forecasting out a season, like summer or winter",
          "Forecasting out past two weeks but no longer than a few months",
          "Forecasting a general season for this year vs. next year"
         ],
         "domain": {
          "x": [
           0,
           1
          ],
          "y": [
           0,
           1
          ]
         },
         "hoverlabel": {
          "namelength": 0
         },
         "hovertemplate": "%{customdata}",
         "ids": [
          "Decadal/AMO",
          "Subseasonal/Blocking",
          "Year-to-year/ENSO",
          "Seasonal/Earth tilt",
          "Day-to-day/Fronts",
          "Day-to-day/Hurricanes",
          "Seasonal/ITCZ shift",
          "Subseasonal/MJO",
          "Day-to-day/Mid-latitude Cyclones",
          "Centuries/Milankovitch cycles",
          "Seasonal/Monsoons",
          "Subseasonal/NAO",
          "Decadal/PDO",
          "Subseasonal/PNA",
          "Year-to-year/QBO",
          "Hourly/T-storms",
          "Hourly/Tornadoes",
          "Centuries",
          "Day-to-day",
          "Decadal",
          "Hourly",
          "Seasonal",
          "Subseasonal",
          "Year-to-year"
         ],
         "insidetextorientation": "radial",
         "labels": [
          "AMO",
          "Blocking",
          "ENSO",
          "Earth tilt",
          "Fronts",
          "Hurricanes",
          "ITCZ shift",
          "MJO",
          "Mid-latitude Cyclones",
          "Milankovitch cycles",
          "Monsoons",
          "NAO",
          "PDO",
          "PNA",
          "QBO",
          "T-storms",
          "Tornadoes",
          "Centuries",
          "Day-to-day",
          "Decadal",
          "Hourly",
          "Seasonal",
          "Subseasonal",
          "Year-to-year"
         ],
         "name": "",
         "parents": [
          "Decadal",
          "Subseasonal",
          "Year-to-year",
          "Seasonal",
          "Day-to-day",
          "Day-to-day",
          "Seasonal",
          "Subseasonal",
          "Day-to-day",
          "Centuries",
          "Seasonal",
          "Subseasonal",
          "Decadal",
          "Subseasonal",
          "Year-to-year",
          "Hourly",
          "Hourly",
          "",
          "",
          "",
          "",
          "",
          "",
          ""
         ],
         "type": "sunburst",
         "values": [
          50,
          24.99,
          50,
          33.333,
          33.3,
          33.3,
          33.333,
          24.99,
          33.3,
          100,
          33.333,
          24.99,
          50,
          24.99,
          50,
          49.7,
          49.7,
          100,
          99.89999999999999,
          100,
          99.4,
          99.999,
          99.96,
          100
         ]
        }
       ],
       "layout": {
        "annotations": [
         {
          "font": {
           "color": "black",
           "family": "Dill Alternate,monospace",
           "size": 14
          },
          "opacity": 0.8,
          "showarrow": false,
          "text": "<i>© Seasoned Chaos</i>",
          "x": 0.9,
          "xref": "paper",
          "y": 0.04,
          "yref": "paper"
         }
        ],
        "autosize": true,
        "legend": {
         "tracegroupgap": 0
        },
        "margin": {
         "b": 0,
         "l": 0,
         "r": 0,
         "t": 40
        },
        "sunburstcolorway": [
         "#4C78A8",
         "#F58518",
         "#E45756",
         "#72B7B2",
         "#54A24B",
         "#EECA3B",
         "#B279A2",
         "#FF9DA6",
         "#9D755D",
         "#BAB0AC"
        ],
        "template": {
         "data": {
          "bar": [
           {
            "error_x": {
             "color": "#2a3f5f"
            },
            "error_y": {
             "color": "#2a3f5f"
            },
            "marker": {
             "line": {
              "color": "#E5ECF6",
              "width": 0.5
             }
            },
            "type": "bar"
           }
          ],
          "barpolar": [
           {
            "marker": {
             "line": {
              "color": "#E5ECF6",
              "width": 0.5
             }
            },
            "type": "barpolar"
           }
          ],
          "carpet": [
           {
            "aaxis": {
             "endlinecolor": "#2a3f5f",
             "gridcolor": "white",
             "linecolor": "white",
             "minorgridcolor": "white",
             "startlinecolor": "#2a3f5f"
            },
            "baxis": {
             "endlinecolor": "#2a3f5f",
             "gridcolor": "white",
             "linecolor": "white",
             "minorgridcolor": "white",
             "startlinecolor": "#2a3f5f"
            },
            "type": "carpet"
           }
          ],
          "choropleth": [
           {
            "colorbar": {
             "outlinewidth": 0,
             "ticks": ""
            },
            "type": "choropleth"
           }
          ],
          "contour": [
           {
            "colorbar": {
             "outlinewidth": 0,
             "ticks": ""
            },
            "colorscale": [
             [
              0,
              "#0d0887"
             ],
             [
              0.1111111111111111,
              "#46039f"
             ],
             [
              0.2222222222222222,
              "#7201a8"
             ],
             [
              0.3333333333333333,
              "#9c179e"
             ],
             [
              0.4444444444444444,
              "#bd3786"
             ],
             [
              0.5555555555555556,
              "#d8576b"
             ],
             [
              0.6666666666666666,
              "#ed7953"
             ],
             [
              0.7777777777777778,
              "#fb9f3a"
             ],
             [
              0.8888888888888888,
              "#fdca26"
             ],
             [
              1,
              "#f0f921"
             ]
            ],
            "type": "contour"
           }
          ],
          "contourcarpet": [
           {
            "colorbar": {
             "outlinewidth": 0,
             "ticks": ""
            },
            "type": "contourcarpet"
           }
          ],
          "heatmap": [
           {
            "colorbar": {
             "outlinewidth": 0,
             "ticks": ""
            },
            "colorscale": [
             [
              0,
              "#0d0887"
             ],
             [
              0.1111111111111111,
              "#46039f"
             ],
             [
              0.2222222222222222,
              "#7201a8"
             ],
             [
              0.3333333333333333,
              "#9c179e"
             ],
             [
              0.4444444444444444,
              "#bd3786"
             ],
             [
              0.5555555555555556,
              "#d8576b"
             ],
             [
              0.6666666666666666,
              "#ed7953"
             ],
             [
              0.7777777777777778,
              "#fb9f3a"
             ],
             [
              0.8888888888888888,
              "#fdca26"
             ],
             [
              1,
              "#f0f921"
             ]
            ],
            "type": "heatmap"
           }
          ],
          "heatmapgl": [
           {
            "colorbar": {
             "outlinewidth": 0,
             "ticks": ""
            },
            "colorscale": [
             [
              0,
              "#0d0887"
             ],
             [
              0.1111111111111111,
              "#46039f"
             ],
             [
              0.2222222222222222,
              "#7201a8"
             ],
             [
              0.3333333333333333,
              "#9c179e"
             ],
             [
              0.4444444444444444,
              "#bd3786"
             ],
             [
              0.5555555555555556,
              "#d8576b"
             ],
             [
              0.6666666666666666,
              "#ed7953"
             ],
             [
              0.7777777777777778,
              "#fb9f3a"
             ],
             [
              0.8888888888888888,
              "#fdca26"
             ],
             [
              1,
              "#f0f921"
             ]
            ],
            "type": "heatmapgl"
           }
          ],
          "histogram": [
           {
            "marker": {
             "colorbar": {
              "outlinewidth": 0,
              "ticks": ""
             }
            },
            "type": "histogram"
           }
          ],
          "histogram2d": [
           {
            "colorbar": {
             "outlinewidth": 0,
             "ticks": ""
            },
            "colorscale": [
             [
              0,
              "#0d0887"
             ],
             [
              0.1111111111111111,
              "#46039f"
             ],
             [
              0.2222222222222222,
              "#7201a8"
             ],
             [
              0.3333333333333333,
              "#9c179e"
             ],
             [
              0.4444444444444444,
              "#bd3786"
             ],
             [
              0.5555555555555556,
              "#d8576b"
             ],
             [
              0.6666666666666666,
              "#ed7953"
             ],
             [
              0.7777777777777778,
              "#fb9f3a"
             ],
             [
              0.8888888888888888,
              "#fdca26"
             ],
             [
              1,
              "#f0f921"
             ]
            ],
            "type": "histogram2d"
           }
          ],
          "histogram2dcontour": [
           {
            "colorbar": {
             "outlinewidth": 0,
             "ticks": ""
            },
            "colorscale": [
             [
              0,
              "#0d0887"
             ],
             [
              0.1111111111111111,
              "#46039f"
             ],
             [
              0.2222222222222222,
              "#7201a8"
             ],
             [
              0.3333333333333333,
              "#9c179e"
             ],
             [
              0.4444444444444444,
              "#bd3786"
             ],
             [
              0.5555555555555556,
              "#d8576b"
             ],
             [
              0.6666666666666666,
              "#ed7953"
             ],
             [
              0.7777777777777778,
              "#fb9f3a"
             ],
             [
              0.8888888888888888,
              "#fdca26"
             ],
             [
              1,
              "#f0f921"
             ]
            ],
            "type": "histogram2dcontour"
           }
          ],
          "mesh3d": [
           {
            "colorbar": {
             "outlinewidth": 0,
             "ticks": ""
            },
            "type": "mesh3d"
           }
          ],
          "parcoords": [
           {
            "line": {
             "colorbar": {
              "outlinewidth": 0,
              "ticks": ""
             }
            },
            "type": "parcoords"
           }
          ],
          "pie": [
           {
            "automargin": true,
            "type": "pie"
           }
          ],
          "scatter": [
           {
            "marker": {
             "colorbar": {
              "outlinewidth": 0,
              "ticks": ""
             }
            },
            "type": "scatter"
           }
          ],
          "scatter3d": [
           {
            "line": {
             "colorbar": {
              "outlinewidth": 0,
              "ticks": ""
             }
            },
            "marker": {
             "colorbar": {
              "outlinewidth": 0,
              "ticks": ""
             }
            },
            "type": "scatter3d"
           }
          ],
          "scattercarpet": [
           {
            "marker": {
             "colorbar": {
              "outlinewidth": 0,
              "ticks": ""
             }
            },
            "type": "scattercarpet"
           }
          ],
          "scattergeo": [
           {
            "marker": {
             "colorbar": {
              "outlinewidth": 0,
              "ticks": ""
             }
            },
            "type": "scattergeo"
           }
          ],
          "scattergl": [
           {
            "marker": {
             "colorbar": {
              "outlinewidth": 0,
              "ticks": ""
             }
            },
            "type": "scattergl"
           }
          ],
          "scattermapbox": [
           {
            "marker": {
             "colorbar": {
              "outlinewidth": 0,
              "ticks": ""
             }
            },
            "type": "scattermapbox"
           }
          ],
          "scatterpolar": [
           {
            "marker": {
             "colorbar": {
              "outlinewidth": 0,
              "ticks": ""
             }
            },
            "type": "scatterpolar"
           }
          ],
          "scatterpolargl": [
           {
            "marker": {
             "colorbar": {
              "outlinewidth": 0,
              "ticks": ""
             }
            },
            "type": "scatterpolargl"
           }
          ],
          "scatterternary": [
           {
            "marker": {
             "colorbar": {
              "outlinewidth": 0,
              "ticks": ""
             }
            },
            "type": "scatterternary"
           }
          ],
          "surface": [
           {
            "colorbar": {
             "outlinewidth": 0,
             "ticks": ""
            },
            "colorscale": [
             [
              0,
              "#0d0887"
             ],
             [
              0.1111111111111111,
              "#46039f"
             ],
             [
              0.2222222222222222,
              "#7201a8"
             ],
             [
              0.3333333333333333,
              "#9c179e"
             ],
             [
              0.4444444444444444,
              "#bd3786"
             ],
             [
              0.5555555555555556,
              "#d8576b"
             ],
             [
              0.6666666666666666,
              "#ed7953"
             ],
             [
              0.7777777777777778,
              "#fb9f3a"
             ],
             [
              0.8888888888888888,
              "#fdca26"
             ],
             [
              1,
              "#f0f921"
             ]
            ],
            "type": "surface"
           }
          ],
          "table": [
           {
            "cells": {
             "fill": {
              "color": "#EBF0F8"
             },
             "line": {
              "color": "white"
             }
            },
            "header": {
             "fill": {
              "color": "#C8D4E3"
             },
             "line": {
              "color": "white"
             }
            },
            "type": "table"
           }
          ]
         },
         "layout": {
          "annotationdefaults": {
           "arrowcolor": "#2a3f5f",
           "arrowhead": 0,
           "arrowwidth": 1
          },
          "coloraxis": {
           "colorbar": {
            "outlinewidth": 0,
            "ticks": ""
           }
          },
          "colorscale": {
           "diverging": [
            [
             0,
             "#8e0152"
            ],
            [
             0.1,
             "#c51b7d"
            ],
            [
             0.2,
             "#de77ae"
            ],
            [
             0.3,
             "#f1b6da"
            ],
            [
             0.4,
             "#fde0ef"
            ],
            [
             0.5,
             "#f7f7f7"
            ],
            [
             0.6,
             "#e6f5d0"
            ],
            [
             0.7,
             "#b8e186"
            ],
            [
             0.8,
             "#7fbc41"
            ],
            [
             0.9,
             "#4d9221"
            ],
            [
             1,
             "#276419"
            ]
           ],
           "sequential": [
            [
             0,
             "#0d0887"
            ],
            [
             0.1111111111111111,
             "#46039f"
            ],
            [
             0.2222222222222222,
             "#7201a8"
            ],
            [
             0.3333333333333333,
             "#9c179e"
            ],
            [
             0.4444444444444444,
             "#bd3786"
            ],
            [
             0.5555555555555556,
             "#d8576b"
            ],
            [
             0.6666666666666666,
             "#ed7953"
            ],
            [
             0.7777777777777778,
             "#fb9f3a"
            ],
            [
             0.8888888888888888,
             "#fdca26"
            ],
            [
             1,
             "#f0f921"
            ]
           ],
           "sequentialminus": [
            [
             0,
             "#0d0887"
            ],
            [
             0.1111111111111111,
             "#46039f"
            ],
            [
             0.2222222222222222,
             "#7201a8"
            ],
            [
             0.3333333333333333,
             "#9c179e"
            ],
            [
             0.4444444444444444,
             "#bd3786"
            ],
            [
             0.5555555555555556,
             "#d8576b"
            ],
            [
             0.6666666666666666,
             "#ed7953"
            ],
            [
             0.7777777777777778,
             "#fb9f3a"
            ],
            [
             0.8888888888888888,
             "#fdca26"
            ],
            [
             1,
             "#f0f921"
            ]
           ]
          },
          "colorway": [
           "#636efa",
           "#EF553B",
           "#00cc96",
           "#ab63fa",
           "#FFA15A",
           "#19d3f3",
           "#FF6692",
           "#B6E880",
           "#FF97FF",
           "#FECB52"
          ],
          "font": {
           "color": "#2a3f5f"
          },
          "geo": {
           "bgcolor": "white",
           "lakecolor": "white",
           "landcolor": "#E5ECF6",
           "showlakes": true,
           "showland": true,
           "subunitcolor": "white"
          },
          "hoverlabel": {
           "align": "left"
          },
          "hovermode": "closest",
          "mapbox": {
           "style": "light"
          },
          "paper_bgcolor": "white",
          "plot_bgcolor": "#E5ECF6",
          "polar": {
           "angularaxis": {
            "gridcolor": "white",
            "linecolor": "white",
            "ticks": ""
           },
           "bgcolor": "#E5ECF6",
           "radialaxis": {
            "gridcolor": "white",
            "linecolor": "white",
            "ticks": ""
           }
          },
          "scene": {
           "xaxis": {
            "backgroundcolor": "#E5ECF6",
            "gridcolor": "white",
            "gridwidth": 2,
            "linecolor": "white",
            "showbackground": true,
            "ticks": "",
            "zerolinecolor": "white"
           },
           "yaxis": {
            "backgroundcolor": "#E5ECF6",
            "gridcolor": "white",
            "gridwidth": 2,
            "linecolor": "white",
            "showbackground": true,
            "ticks": "",
            "zerolinecolor": "white"
           },
           "zaxis": {
            "backgroundcolor": "#E5ECF6",
            "gridcolor": "white",
            "gridwidth": 2,
            "linecolor": "white",
            "showbackground": true,
            "ticks": "",
            "zerolinecolor": "white"
           }
          },
          "shapedefaults": {
           "line": {
            "color": "#2a3f5f"
           }
          },
          "ternary": {
           "aaxis": {
            "gridcolor": "white",
            "linecolor": "white",
            "ticks": ""
           },
           "baxis": {
            "gridcolor": "white",
            "linecolor": "white",
            "ticks": ""
           },
           "bgcolor": "#E5ECF6",
           "caxis": {
            "gridcolor": "white",
            "linecolor": "white",
            "ticks": ""
           }
          },
          "title": {
           "x": 0.05
          },
          "xaxis": {
           "automargin": true,
           "gridcolor": "white",
           "linecolor": "white",
           "ticks": "",
           "title": {
            "standoff": 15
           },
           "zerolinecolor": "white",
           "zerolinewidth": 2
          },
          "yaxis": {
           "automargin": true,
           "gridcolor": "white",
           "linecolor": "white",
           "ticks": "",
           "title": {
            "standoff": 15
           },
           "zerolinecolor": "white",
           "zerolinewidth": 2
          }
         }
        },
        "title": {
         "text": "Weather Pattern Pie",
         "x": 0.49,
         "xanchor": "center",
         "y": 0.98,
         "yanchor": "top"
        }
       }
      },
      "image/png": "[encoded data removed]"
     },
     "metadata": {},
     "output_type": "display_data"
    }
   ],
   "source": [
    "import plotly.express as px\n",
    "\n",
    "my_text = ['Atlantic Multidecadal Oscillation: fluctuations in North Atlantic Ocean sea surface temperatures',\n",
    "           'Obstruction of west-to-east flow', \n",
    "           'El Nino-Southern Oscillation: fluctuations of tropical Pacific sea surface temperatures',\n",
    "           'Hemisphere receives more or less direct sunlight in summer or winter months',\n",
    "           'Boundary of air masses; types are cold, warm, stationary, occluded',\n",
    "           'Strong, closed low pressure system that originates in the tropics',\n",
    "           'Inter-Tropical Convergence Zone: belt of clouds & storminess that circles the globe & follows trade winds',\n",
    "           'Madden-Julian Oscillation: tropical, eastward-moving band of clouds & rainfall sandwiched between two dry systems',\n",
    "           'Low pressure system outside the tropics',\n",
    "           'Earth\\'s eccentricity (orbit), obliquity (change in tilt), & precession (wobble)',\n",
    "           'Reversal of winds accompanied by corresponding changes in precipitation',\n",
    "           'North Atlantic Oscillation: fluctuations in atmospheric pressure at sea level between the Icelandic Low (N Atl.) and the Azores High (subtropical Atl.)',\n",
    "           'Pacific Decadal Oscillation: fluctuations in North Pacific sea surface temperatures',\n",
    "           'Pacific-North American pattern: fluctuations in upper-level pressure between eastern North Pacific and North America',\n",
    "           'Quasi-biennial Oscillation: fluctuations in direction (east-to-west or west-to-east) of equatorial winds in the stratosphere; usually reverses every 2 years',\n",
    "           'Thunderstorm, the thing that scares your dog','Rapidly rotating column of air that touches ground',\n",
    "           'Forecasting out hundreds and thousands of years, past the time a human lives',\n",
    "           'Forecasting weather for today vs. tomorrow vs. Friday','Forecasting out 7+ years',\n",
    "           'Forecasting within a day','Forecasting out a season, like summer or winter',\n",
    "           'Forecasting out past two weeks but no longer than a few months','Forecasting a general season for this year vs. next year']\n",
    "\n",
    "fig = px.sunburst(df, path=['Timescale','Processes'], values='size', color_discrete_sequence=px.colors.qualitative.T10)\n",
    "fig.update_traces(insidetextorientation='radial')\n",
    "fig.update_traces(customdata=my_text,hovertemplate=\"%{customdata}\")\n",
    "fig.update_layout(title={\n",
    "        'text': \"Weather Pattern Pie\",\n",
    "        'y':0.98,\n",
    "        'x':0.49,\n",
    "        'xanchor': 'center',\n",
    "        'yanchor': 'top'})\n",
    "# -*- coding: utf-8 -*-\n",
    "fig.add_annotation(\n",
    "            x=0.9,\n",
    "            y=0.04,\n",
    "            xref=\"paper\",\n",
    "            yref=\"paper\",\n",
    "            text=\"<i>\\xa9 Seasoned Chaos</i>\",\n",
    "            showarrow=False, opacity=.8,\n",
    "            font=dict(\n",
    "                family=\"Dill Alternate,monospace\",\n",
    "                size=14,\n",
    "                color=\"black\"\n",
    "            ))\n",
    "fig.update_layout(margin = dict(t=40, l=0, r=0, b=0))\n",
    "fig.show(renderer='plotly_mimetype')\n"
   ]
  },
  {
   "cell_type": "code",
   "execution_count": 26,
   "metadata": {},
   "outputs": [],
   "source": [
    "username = 'kelseymalloy' # your username\n",
    "api_key = 'Y6PCXzdShQDpkqv9FhN3' # your api key - go to profile > settings > regenerate key\n",
    "chart_studio.tools.set_credentials_file(username=username, api_key=api_key)"
   ]
  },
  {
   "cell_type": "code",
   "execution_count": 27,
   "metadata": {},
   "outputs": [
    {
     "data": {
      "text/plain": [
       "'https://plotly.com/~kelseymalloy/1/'"
      ]
     },
     "execution_count": 27,
     "metadata": {},
     "output_type": "execute_result"
    }
   ],
   "source": [
    "import chart_studio.plotly as py\n",
    "py.plot(fig, filename = 'weather_pattern_pie', auto_open=True)"
   ]
  },
  {
   "cell_type": "code",
   "execution_count": 28,
   "metadata": {},
   "outputs": [
    {
     "data": {
      "text/plain": [
       "'<iframe id=\"igraph\" scrolling=\"no\" style=\"border:none;\" seamless=\"seamless\" src=\"https://plotly.com/~kelseymalloy/1.embed\" height=\"525\" width=\"100%\"></iframe>'"
      ]
     },
     "execution_count": 28,
     "metadata": {},
     "output_type": "execute_result"
    }
   ],
   "source": [
    "import chart_studio.tools as tls\n",
    "tls.get_embed('https://plotly.com/~kelseymalloy/1/')"
   ]
  },
  {
   "cell_type": "code",
   "execution_count": 28,
   "metadata": {},
   "outputs": [],
   "source": [
    "import plotly.io as pio\n",
    "pio.write_html(fig, file='../_pages/weather_pattern_pie_SC.html', auto_open=True)"
   ]
  },
  {
   "cell_type": "code",
   "execution_count": 15,
   "metadata": {},
   "outputs": [],
   "source": [
    "import plotly.io as pio\n",
    "pio.write_html(fig, file='../_pages/weather_pattern_pie.html', auto_open=True)"
   ]
  },
  {
   "cell_type": "code",
   "execution_count": 25,
   "metadata": {},
   "outputs": [
    {
     "data": {
      "application/vnd.plotly.v1+json": {
       "config": {
        "plotlyServerURL": "https://plot.ly"
       },
       "data": [
        {
         "labels": [
          "Eve",
          "Cain",
          "Seth",
          "Enos",
          "Noam",
          "Abel",
          "Awan",
          "Enoch",
          "Azura"
         ],
         "parents": [
          "",
          "Eve",
          "Eve",
          "Seth",
          "Seth",
          "Eve",
          "Eve",
          "Awan",
          "Eve"
         ],
         "type": "sunburst",
         "values": [
          10,
          14,
          12,
          10,
          2,
          6,
          6,
          4,
          4
         ]
        }
       ],
       "layout": {
        "autosize": true,
        "margin": {
         "b": 0,
         "l": 0,
         "r": 0,
         "t": 0
        },
        "template": {
         "data": {
          "bar": [
           {
            "error_x": {
             "color": "#2a3f5f"
            },
            "error_y": {
             "color": "#2a3f5f"
            },
            "marker": {
             "line": {
              "color": "#E5ECF6",
              "width": 0.5
             }
            },
            "type": "bar"
           }
          ],
          "barpolar": [
           {
            "marker": {
             "line": {
              "color": "#E5ECF6",
              "width": 0.5
             }
            },
            "type": "barpolar"
           }
          ],
          "carpet": [
           {
            "aaxis": {
             "endlinecolor": "#2a3f5f",
             "gridcolor": "white",
             "linecolor": "white",
             "minorgridcolor": "white",
             "startlinecolor": "#2a3f5f"
            },
            "baxis": {
             "endlinecolor": "#2a3f5f",
             "gridcolor": "white",
             "linecolor": "white",
             "minorgridcolor": "white",
             "startlinecolor": "#2a3f5f"
            },
            "type": "carpet"
           }
          ],
          "choropleth": [
           {
            "colorbar": {
             "outlinewidth": 0,
             "ticks": ""
            },
            "type": "choropleth"
           }
          ],
          "contour": [
           {
            "colorbar": {
             "outlinewidth": 0,
             "ticks": ""
            },
            "colorscale": [
             [
              0,
              "#0d0887"
             ],
             [
              0.1111111111111111,
              "#46039f"
             ],
             [
              0.2222222222222222,
              "#7201a8"
             ],
             [
              0.3333333333333333,
              "#9c179e"
             ],
             [
              0.4444444444444444,
              "#bd3786"
             ],
             [
              0.5555555555555556,
              "#d8576b"
             ],
             [
              0.6666666666666666,
              "#ed7953"
             ],
             [
              0.7777777777777778,
              "#fb9f3a"
             ],
             [
              0.8888888888888888,
              "#fdca26"
             ],
             [
              1,
              "#f0f921"
             ]
            ],
            "type": "contour"
           }
          ],
          "contourcarpet": [
           {
            "colorbar": {
             "outlinewidth": 0,
             "ticks": ""
            },
            "type": "contourcarpet"
           }
          ],
          "heatmap": [
           {
            "colorbar": {
             "outlinewidth": 0,
             "ticks": ""
            },
            "colorscale": [
             [
              0,
              "#0d0887"
             ],
             [
              0.1111111111111111,
              "#46039f"
             ],
             [
              0.2222222222222222,
              "#7201a8"
             ],
             [
              0.3333333333333333,
              "#9c179e"
             ],
             [
              0.4444444444444444,
              "#bd3786"
             ],
             [
              0.5555555555555556,
              "#d8576b"
             ],
             [
              0.6666666666666666,
              "#ed7953"
             ],
             [
              0.7777777777777778,
              "#fb9f3a"
             ],
             [
              0.8888888888888888,
              "#fdca26"
             ],
             [
              1,
              "#f0f921"
             ]
            ],
            "type": "heatmap"
           }
          ],
          "heatmapgl": [
           {
            "colorbar": {
             "outlinewidth": 0,
             "ticks": ""
            },
            "colorscale": [
             [
              0,
              "#0d0887"
             ],
             [
              0.1111111111111111,
              "#46039f"
             ],
             [
              0.2222222222222222,
              "#7201a8"
             ],
             [
              0.3333333333333333,
              "#9c179e"
             ],
             [
              0.4444444444444444,
              "#bd3786"
             ],
             [
              0.5555555555555556,
              "#d8576b"
             ],
             [
              0.6666666666666666,
              "#ed7953"
             ],
             [
              0.7777777777777778,
              "#fb9f3a"
             ],
             [
              0.8888888888888888,
              "#fdca26"
             ],
             [
              1,
              "#f0f921"
             ]
            ],
            "type": "heatmapgl"
           }
          ],
          "histogram": [
           {
            "marker": {
             "colorbar": {
              "outlinewidth": 0,
              "ticks": ""
             }
            },
            "type": "histogram"
           }
          ],
          "histogram2d": [
           {
            "colorbar": {
             "outlinewidth": 0,
             "ticks": ""
            },
            "colorscale": [
             [
              0,
              "#0d0887"
             ],
             [
              0.1111111111111111,
              "#46039f"
             ],
             [
              0.2222222222222222,
              "#7201a8"
             ],
             [
              0.3333333333333333,
              "#9c179e"
             ],
             [
              0.4444444444444444,
              "#bd3786"
             ],
             [
              0.5555555555555556,
              "#d8576b"
             ],
             [
              0.6666666666666666,
              "#ed7953"
             ],
             [
              0.7777777777777778,
              "#fb9f3a"
             ],
             [
              0.8888888888888888,
              "#fdca26"
             ],
             [
              1,
              "#f0f921"
             ]
            ],
            "type": "histogram2d"
           }
          ],
          "histogram2dcontour": [
           {
            "colorbar": {
             "outlinewidth": 0,
             "ticks": ""
            },
            "colorscale": [
             [
              0,
              "#0d0887"
             ],
             [
              0.1111111111111111,
              "#46039f"
             ],
             [
              0.2222222222222222,
              "#7201a8"
             ],
             [
              0.3333333333333333,
              "#9c179e"
             ],
             [
              0.4444444444444444,
              "#bd3786"
             ],
             [
              0.5555555555555556,
              "#d8576b"
             ],
             [
              0.6666666666666666,
              "#ed7953"
             ],
             [
              0.7777777777777778,
              "#fb9f3a"
             ],
             [
              0.8888888888888888,
              "#fdca26"
             ],
             [
              1,
              "#f0f921"
             ]
            ],
            "type": "histogram2dcontour"
           }
          ],
          "mesh3d": [
           {
            "colorbar": {
             "outlinewidth": 0,
             "ticks": ""
            },
            "type": "mesh3d"
           }
          ],
          "parcoords": [
           {
            "line": {
             "colorbar": {
              "outlinewidth": 0,
              "ticks": ""
             }
            },
            "type": "parcoords"
           }
          ],
          "pie": [
           {
            "automargin": true,
            "type": "pie"
           }
          ],
          "scatter": [
           {
            "marker": {
             "colorbar": {
              "outlinewidth": 0,
              "ticks": ""
             }
            },
            "type": "scatter"
           }
          ],
          "scatter3d": [
           {
            "line": {
             "colorbar": {
              "outlinewidth": 0,
              "ticks": ""
             }
            },
            "marker": {
             "colorbar": {
              "outlinewidth": 0,
              "ticks": ""
             }
            },
            "type": "scatter3d"
           }
          ],
          "scattercarpet": [
           {
            "marker": {
             "colorbar": {
              "outlinewidth": 0,
              "ticks": ""
             }
            },
            "type": "scattercarpet"
           }
          ],
          "scattergeo": [
           {
            "marker": {
             "colorbar": {
              "outlinewidth": 0,
              "ticks": ""
             }
            },
            "type": "scattergeo"
           }
          ],
          "scattergl": [
           {
            "marker": {
             "colorbar": {
              "outlinewidth": 0,
              "ticks": ""
             }
            },
            "type": "scattergl"
           }
          ],
          "scattermapbox": [
           {
            "marker": {
             "colorbar": {
              "outlinewidth": 0,
              "ticks": ""
             }
            },
            "type": "scattermapbox"
           }
          ],
          "scatterpolar": [
           {
            "marker": {
             "colorbar": {
              "outlinewidth": 0,
              "ticks": ""
             }
            },
            "type": "scatterpolar"
           }
          ],
          "scatterpolargl": [
           {
            "marker": {
             "colorbar": {
              "outlinewidth": 0,
              "ticks": ""
             }
            },
            "type": "scatterpolargl"
           }
          ],
          "scatterternary": [
           {
            "marker": {
             "colorbar": {
              "outlinewidth": 0,
              "ticks": ""
             }
            },
            "type": "scatterternary"
           }
          ],
          "surface": [
           {
            "colorbar": {
             "outlinewidth": 0,
             "ticks": ""
            },
            "colorscale": [
             [
              0,
              "#0d0887"
             ],
             [
              0.1111111111111111,
              "#46039f"
             ],
             [
              0.2222222222222222,
              "#7201a8"
             ],
             [
              0.3333333333333333,
              "#9c179e"
             ],
             [
              0.4444444444444444,
              "#bd3786"
             ],
             [
              0.5555555555555556,
              "#d8576b"
             ],
             [
              0.6666666666666666,
              "#ed7953"
             ],
             [
              0.7777777777777778,
              "#fb9f3a"
             ],
             [
              0.8888888888888888,
              "#fdca26"
             ],
             [
              1,
              "#f0f921"
             ]
            ],
            "type": "surface"
           }
          ],
          "table": [
           {
            "cells": {
             "fill": {
              "color": "#EBF0F8"
             },
             "line": {
              "color": "white"
             }
            },
            "header": {
             "fill": {
              "color": "#C8D4E3"
             },
             "line": {
              "color": "white"
             }
            },
            "type": "table"
           }
          ]
         },
         "layout": {
          "annotationdefaults": {
           "arrowcolor": "#2a3f5f",
           "arrowhead": 0,
           "arrowwidth": 1
          },
          "coloraxis": {
           "colorbar": {
            "outlinewidth": 0,
            "ticks": ""
           }
          },
          "colorscale": {
           "diverging": [
            [
             0,
             "#8e0152"
            ],
            [
             0.1,
             "#c51b7d"
            ],
            [
             0.2,
             "#de77ae"
            ],
            [
             0.3,
             "#f1b6da"
            ],
            [
             0.4,
             "#fde0ef"
            ],
            [
             0.5,
             "#f7f7f7"
            ],
            [
             0.6,
             "#e6f5d0"
            ],
            [
             0.7,
             "#b8e186"
            ],
            [
             0.8,
             "#7fbc41"
            ],
            [
             0.9,
             "#4d9221"
            ],
            [
             1,
             "#276419"
            ]
           ],
           "sequential": [
            [
             0,
             "#0d0887"
            ],
            [
             0.1111111111111111,
             "#46039f"
            ],
            [
             0.2222222222222222,
             "#7201a8"
            ],
            [
             0.3333333333333333,
             "#9c179e"
            ],
            [
             0.4444444444444444,
             "#bd3786"
            ],
            [
             0.5555555555555556,
             "#d8576b"
            ],
            [
             0.6666666666666666,
             "#ed7953"
            ],
            [
             0.7777777777777778,
             "#fb9f3a"
            ],
            [
             0.8888888888888888,
             "#fdca26"
            ],
            [
             1,
             "#f0f921"
            ]
           ],
           "sequentialminus": [
            [
             0,
             "#0d0887"
            ],
            [
             0.1111111111111111,
             "#46039f"
            ],
            [
             0.2222222222222222,
             "#7201a8"
            ],
            [
             0.3333333333333333,
             "#9c179e"
            ],
            [
             0.4444444444444444,
             "#bd3786"
            ],
            [
             0.5555555555555556,
             "#d8576b"
            ],
            [
             0.6666666666666666,
             "#ed7953"
            ],
            [
             0.7777777777777778,
             "#fb9f3a"
            ],
            [
             0.8888888888888888,
             "#fdca26"
            ],
            [
             1,
             "#f0f921"
            ]
           ]
          },
          "colorway": [
           "#636efa",
           "#EF553B",
           "#00cc96",
           "#ab63fa",
           "#FFA15A",
           "#19d3f3",
           "#FF6692",
           "#B6E880",
           "#FF97FF",
           "#FECB52"
          ],
          "font": {
           "color": "#2a3f5f"
          },
          "geo": {
           "bgcolor": "white",
           "lakecolor": "white",
           "landcolor": "#E5ECF6",
           "showlakes": true,
           "showland": true,
           "subunitcolor": "white"
          },
          "hoverlabel": {
           "align": "left"
          },
          "hovermode": "closest",
          "mapbox": {
           "style": "light"
          },
          "paper_bgcolor": "white",
          "plot_bgcolor": "#E5ECF6",
          "polar": {
           "angularaxis": {
            "gridcolor": "white",
            "linecolor": "white",
            "ticks": ""
           },
           "bgcolor": "#E5ECF6",
           "radialaxis": {
            "gridcolor": "white",
            "linecolor": "white",
            "ticks": ""
           }
          },
          "scene": {
           "xaxis": {
            "backgroundcolor": "#E5ECF6",
            "gridcolor": "white",
            "gridwidth": 2,
            "linecolor": "white",
            "showbackground": true,
            "ticks": "",
            "zerolinecolor": "white"
           },
           "yaxis": {
            "backgroundcolor": "#E5ECF6",
            "gridcolor": "white",
            "gridwidth": 2,
            "linecolor": "white",
            "showbackground": true,
            "ticks": "",
            "zerolinecolor": "white"
           },
           "zaxis": {
            "backgroundcolor": "#E5ECF6",
            "gridcolor": "white",
            "gridwidth": 2,
            "linecolor": "white",
            "showbackground": true,
            "ticks": "",
            "zerolinecolor": "white"
           }
          },
          "shapedefaults": {
           "line": {
            "color": "#2a3f5f"
           }
          },
          "ternary": {
           "aaxis": {
            "gridcolor": "white",
            "linecolor": "white",
            "ticks": ""
           },
           "baxis": {
            "gridcolor": "white",
            "linecolor": "white",
            "ticks": ""
           },
           "bgcolor": "#E5ECF6",
           "caxis": {
            "gridcolor": "white",
            "linecolor": "white",
            "ticks": ""
           }
          },
          "title": {
           "x": 0.05
          },
          "xaxis": {
           "automargin": true,
           "gridcolor": "white",
           "linecolor": "white",
           "ticks": "",
           "title": {
            "standoff": 15
           },
           "zerolinecolor": "white",
           "zerolinewidth": 2
          },
          "yaxis": {
           "automargin": true,
           "gridcolor": "white",
           "linecolor": "white",
           "ticks": "",
           "title": {
            "standoff": 15
           },
           "zerolinecolor": "white",
           "zerolinewidth": 2
          }
         }
        }
       }
      },
      "image/png": "[encoded data removed]"
     },
     "metadata": {},
     "output_type": "display_data"
    }
   ],
   "source": [
    "# original script for a sunburst\n",
    "\n",
    "fig =go.Figure(go.Sunburst(\n",
    "    labels=[\"Eve\", \"Cain\", \"Seth\", \"Enos\", \"Noam\", \"Abel\", \"Awan\", \"Enoch\", \"Azura\"],\n",
    "    parents=[\"\", \"Eve\", \"Eve\", \"Seth\", \"Seth\", \"Eve\", \"Eve\", \"Awan\", \"Eve\" ],\n",
    "    values=[10, 14, 12, 10, 2, 6, 6, 4, 4],\n",
    "))\n",
    "# Update layout for tight margin\n",
    "# See https://plotly.com/python/creating-and-updating-figures/\n",
    "fig.update_layout(margin = dict(t=0, l=0, r=0, b=0))\n",
    "\n",
    "fig.show(renderer='plotly_mimetype')"
   ]
  },
  {
   "cell_type": "code",
   "execution_count": null,
   "metadata": {},
   "outputs": [],
   "source": []
  }
 ],
 "metadata": {
  "kernelspec": {
   "display_name": "Python 3",
   "language": "python",
   "name": "python3"
  },
  "language_info": {
   "codemirror_mode": {
    "name": "ipython",
    "version": 3
   },
   "file_extension": ".py",
   "mimetype": "text/x-python",
   "name": "python",
   "nbconvert_exporter": "python",
   "pygments_lexer": "ipython3",
   "version": "3.6.10"
  }
 },
 "nbformat": 4,
 "nbformat_minor": 4
}
